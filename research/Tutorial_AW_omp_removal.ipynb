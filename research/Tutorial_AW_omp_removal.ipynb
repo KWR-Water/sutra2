{
 "cells": [
  {
   "cell_type": "markdown",
   "metadata": {},
   "source": [
    "--------------------------------------------------------------------------------\n",
    "Travel time calculation using AnalyticalWell class, combined with 'omp removal'\n",
    "--------------------------------------------------------------------------------\n",
    "\n",
    "Basic example to calculate the travel time distribution per geological layer for a \n",
    "phreatic scheme, and to calculate the OMP removal. \n",
    "\n",
    "Import packages\n",
    "-----------------\n",
    "\n",
    "First we import the necessary python packages"
   ]
  },
  {
   "cell_type": "code",
   "execution_count": 1,
   "metadata": {},
   "outputs": [
    {
     "name": "stdout",
     "output_type": "stream",
     "text": [
      "3.3.5\n"
     ]
    }
   ],
   "source": [
    "import pandas as pd\n",
    "from pathlib import Path\n",
    "from set_cwd_to_project_root import project_root\n",
    "\n",
    "import matplotlib.pyplot as plt\n",
    "import numpy as np\n",
    "import pandas as pd\n",
    "import os\n",
    "from pandas import read_csv\n",
    "from pandas import read_excel\n",
    "import math\n",
    "from scipy.special import kn as besselk\n",
    "import sutra2.Analytical_Well as AW\n",
    "import sutra2.ModPath_Well as mpw\n",
    "import sutra2.Transport_Removal as TR\n",
    "\n",
    "import warnings \n",
    "warnings.filterwarnings(action= 'ignore')\n",
    "\n",
    "# # get directory of this file\n",
    "# path = Path(__file__).parent\n",
    "%load_ext autoreload\n",
    "%autoreload 2"
   ]
  },
  {
   "cell_type": "markdown",
   "metadata": {},
   "source": [
    "Step 1: Define the HydroChemicalSchematisation\n",
    "-----------------------------------------------\n",
    "The first step is to define the hydrogeochemistry of the system using the HydroChemicalSchematisation class.\n",
    "In this class you specify the:\n",
    "\n",
    "* Computational method ('analytical' or 'modpath').\n",
    "* The schematisation type ('phreatic', 'semiconfined',...) \n",
    "note: schematisation types 'riverbankfiltration', 'basinfiltration' yet to be supported\n",
    "* Input the relevant parameters for the porous media, the hydrochemistry, hydrology and the flow parameters of interest\n",
    "\n",
    "The class parameters can be roughly grouped into the following categories:\n",
    "\n",
    "* System.\n",
    "* Settings.\n",
    "* Porous Medium\n",
    "* Hydrochemistry\n",
    "* Hydrology\n",
    "* Diffuse contamination\n",
    "* Point Contamination\n",
    "* Model size\n",
    "\n",
    "Units of input are:\n",
    "\n",
    "* Discharge : m3/d\n",
    "* Time: days\n",
    "* Length: meters\n",
    "* Concentration: ug/L\n",
    "* Temperature: degree C\n",
    "* Depth: meters above sea level (m ASL)\n",
    "* Density: kg/L\n",
    "* DOC/TOC: mg/L\n",
    "\n",
    "Lets start with a simple example defining a HydroChemicalSchematisation object for a phreatic aquifer:\n"
   ]
  },
  {
   "cell_type": "code",
   "execution_count": 2,
   "metadata": {},
   "outputs": [],
   "source": [
    "phreatic_schematisation = AW.HydroChemicalSchematisation(schematisation_type='phreatic',\n",
    "                                                    computation_method='analytical',\n",
    "                                                    well_discharge=-7500, #m3/day\n",
    "                                                    recharge_rate=0.0008, #m/day\n",
    "                                                    thickness_vadose_zone_at_boundary=5, #m\n",
    "                                                    thickness_shallow_aquifer=10,  #m\n",
    "                                                    thickness_target_aquifer=40, #m\n",
    "                                                    hor_permeability_target_aquifer=35, #m/day\n",
    "                                                    redox_vadose_zone='anoxic',\n",
    "                                                    redox_shallow_aquifer='anoxic',\n",
    "                                                    redox_target_aquifer='deeply_anoxic',\n",
    "                                                    pH_target_aquifer=7.,\n",
    "                                                    temp_water=11.,\n",
    "                                                    diffuse_input_concentration = 100, #ug/L\n",
    "                                                    )\n"
   ]
  },
  {
   "cell_type": "markdown",
   "metadata": {},
   "source": [
    "The parameters from the HydroChemicalSchematisation class are added as attributes to\n",
    "the class and can be accessed for example:"
   ]
  },
  {
   "cell_type": "code",
   "execution_count": 3,
   "metadata": {},
   "outputs": [
    {
     "name": "stdout",
     "output_type": "stream",
     "text": [
      "phreatic\n",
      "-7500\n",
      "0.35\n"
     ]
    }
   ],
   "source": [
    "print(phreatic_schematisation.schematisation_type)\n",
    "print(phreatic_schematisation.well_discharge)\n",
    "print(phreatic_schematisation.porosity_shallow_aquifer)"
   ]
  },
  {
   "cell_type": "markdown",
   "metadata": {},
   "source": [
    "If not defined, default values are used for the rest of the parameters. To view all parameters in the schematisation:"
   ]
  },
  {
   "cell_type": "code",
   "execution_count": 4,
   "metadata": {},
   "outputs": [
    {
     "data": {
      "text/plain": [
       "{'schematisation_type': 'phreatic',\n",
       " 'computation_method': 'analytical',\n",
       " 'removal_function': 'omp',\n",
       " 'what_to_export': 'all',\n",
       " 'well_name': 'well1',\n",
       " 'temp_correction_Koc': True,\n",
       " 'temp_correction_halflife': True,\n",
       " 'biodegradation_sorbed_phase': True,\n",
       " 'compute_thickness_vadose_zone': True,\n",
       " 'ground_surface': 0.0,\n",
       " 'thickness_vadose_zone_at_boundary': 5,\n",
       " 'bottom_vadose_zone_at_boundary': -5.0,\n",
       " 'thickness_shallow_aquifer': 10,\n",
       " 'bottom_shallow_aquifer': -15.0,\n",
       " 'thickness_target_aquifer': 40,\n",
       " 'bottom_target_aquifer': -55.0,\n",
       " 'thickness_full_capillary_fringe': 0.0,\n",
       " 'porosity_vadose_zone': 0.35,\n",
       " 'porosity_shallow_aquifer': 0.35,\n",
       " 'porosity_target_aquifer': 0.35,\n",
       " 'porosity_gravelpack': 0.35,\n",
       " 'porosity_clayseal': 0.35,\n",
       " 'moisture_content_vadose_zone': 0.2,\n",
       " 'solid_density_vadose_zone': 2.65,\n",
       " 'solid_density_shallow_aquifer': 2.65,\n",
       " 'solid_density_target_aquifer': 2.65,\n",
       " 'fraction_organic_carbon_vadose_zone': 0.001,\n",
       " 'fraction_organic_carbon_shallow_aquifer': 0.0005,\n",
       " 'fraction_organic_carbon_target_aquifer': 0.0005,\n",
       " 'grainsize_vadose_zone': 0.00025,\n",
       " 'grainsize_shallow_aquifer': 0.00025,\n",
       " 'grainsize_target_aquifer': 0.00025,\n",
       " 'redox_vadose_zone': 'anoxic',\n",
       " 'redox_shallow_aquifer': 'anoxic',\n",
       " 'redox_target_aquifer': 'deeply_anoxic',\n",
       " 'dissolved_organic_carbon_vadose_zone': 0.0,\n",
       " 'dissolved_organic_carbon_shallow_aquifer': 0.0,\n",
       " 'dissolved_organic_carbon_target_aquifer': 0.0,\n",
       " 'dissolved_organic_carbon_infiltration_water': 0.0,\n",
       " 'total_organic_carbon_infiltration_water': 0.0,\n",
       " 'pH_vadose_zone': 7.0,\n",
       " 'pH_shallow_aquifer': 7.0,\n",
       " 'pH_target_aquifer': 7.0,\n",
       " 'temp_water': 11.0,\n",
       " 'temperature_vadose_zone': 11.0,\n",
       " 'temperature_shallow_aquifer': 11.0,\n",
       " 'temperature_target_aquifer': 11.0,\n",
       " 'recharge_rate': 0.0008,\n",
       " 'well_discharge': -7500,\n",
       " 'basin_length': None,\n",
       " 'basin_width': None,\n",
       " 'basin_xmin': None,\n",
       " 'basin_xmax': None,\n",
       " 'bottom_basin': None,\n",
       " 'bottom_sludge': None,\n",
       " 'hor_permeability_sludge': None,\n",
       " 'vertical_anisotropy_sludge': None,\n",
       " 'head_basin': None,\n",
       " 'basin_infiltration_rate': None,\n",
       " 'travel_time_h20_shallow_aquifer': None,\n",
       " 'minimum_travel_time_h20_shallow_aquifer': None,\n",
       " 'travel_time_h20_deeper_aquifer': None,\n",
       " 'minimum_travel_time_h20_target_aquifer': None,\n",
       " 'diameter_borehole': 0.75,\n",
       " 'top_filterscreen': -15.0,\n",
       " 'bottom_filterscreen': -55.0,\n",
       " 'diameter_filterscreen': 0.2,\n",
       " 'inner_diameter_filterscreen': 0.2,\n",
       " 'top_gravelpack': -15.0,\n",
       " 'bottom_gravelpack': -55.0,\n",
       " 'diameter_gravelpack': 0.75,\n",
       " 'inner_diameter_gravelpack': 0.2,\n",
       " 'grainsize_gravelpack': 0.001,\n",
       " 'top_clayseal': 0.0,\n",
       " 'bottom_clayseal': -15.0,\n",
       " 'diameter_clayseal': 0.75,\n",
       " 'inner_diameter_clayseal': 0.2,\n",
       " 'grainsize_clayseal': 1e-06,\n",
       " 'hor_permeability_shallow_aquifer': 1.0,\n",
       " 'hor_permeability_target_aquifer': 35,\n",
       " 'hor_permeability_gravelpack': 1000,\n",
       " 'hor_permeability_clayseal': 0.001,\n",
       " 'vertical_anisotropy_shallow_aquifer': 1.0,\n",
       " 'vertical_anisotropy_target_aquifer': 1.0,\n",
       " 'vertical_anisotropy_gravelpack': 1.0,\n",
       " 'vertical_anisotropy_clayseal': 1.0,\n",
       " 'vertical_permeability_target_aquifer': 35.0,\n",
       " 'vertical_permeability_shallow_aquifer': 1.0,\n",
       " 'vertical_resistance_shallow_aquifer': 10.0,\n",
       " 'KD': 1400,\n",
       " 'groundwater_level': -5.0,\n",
       " 'organism': None,\n",
       " 'substance': None,\n",
       " 'diffuse_input_concentration': 100,\n",
       " 'point_input_concentration': None,\n",
       " 'start_date_well': datetime.datetime(1950, 1, 1, 0, 0),\n",
       " 'start_date_contamination': datetime.datetime(1950, 1, 1, 0, 0),\n",
       " 'compute_contamination_for_date': datetime.datetime(2000, 1, 1, 0, 0),\n",
       " 'end_date_contamination': None,\n",
       " 'depth_point_contamination': 0.0,\n",
       " 'distance_point_contamination_from_well': array([[1]]),\n",
       " 'discharge_point_contamination': None,\n",
       " 'source_area_radius': None,\n",
       " 'number_of_spreading_distance': None,\n",
       " 'model_radius': 1727.4707473566773,\n",
       " 'model_width': 1,\n",
       " 'model_radius_computed': None,\n",
       " 'relative_position_starting_points_radial': None,\n",
       " 'relative_position_starting_points_in_basin': None,\n",
       " 'relative_position_starting_points_outside_basin': None,\n",
       " 'particle_release_day': None,\n",
       " 'ncols_near_well': 20,\n",
       " 'ncols_far_well': 30,\n",
       " 'nlayers_shallow_aquifer': 10,\n",
       " 'nlayers_target_aquifer': 40}"
      ]
     },
     "execution_count": 4,
     "metadata": {},
     "output_type": "execute_result"
    }
   ],
   "source": [
    "phreatic_schematisation.__dict__"
   ]
  },
  {
   "cell_type": "markdown",
   "metadata": {},
   "source": [
    "____________________________________\n",
    "\n",
    "\n",
    "Step 2: Run the AnalyticalWell class\n",
    "-------------------------------------\n",
    "Next we create an AnalyticalWell object for the HydroChemicalSchematisation object we just made.\n"
   ]
  },
  {
   "cell_type": "code",
   "execution_count": 5,
   "metadata": {},
   "outputs": [],
   "source": [
    "phreatic_well = AW.AnalyticalWell(phreatic_schematisation)"
   ]
  },
  {
   "cell_type": "markdown",
   "metadata": {},
   "source": [
    "Then we calculate the travel time for each of the zones unsaturated, shallow aquifer and target aquifer zones\n",
    "by running the .phreatic() function for the well object. "
   ]
  },
  {
   "cell_type": "code",
   "execution_count": 6,
   "metadata": {},
   "outputs": [],
   "source": [
    "phreatic_well.phreatic()"
   ]
  },
  {
   "cell_type": "markdown",
   "metadata": {},
   "source": [
    "From the AnalyticalWell class two other important outputs are:\n",
    "\n",
    "* df_particle - Pandas dataframe with data about the different flowlines per zone (unsaturated/shallow/target)\n",
    "* df_flowline - Pandas dataframe with data about the flowlines per flowline (eg. total travel time per flowline)\n"
   ]
  },
  {
   "cell_type": "code",
   "execution_count": 7,
   "metadata": {},
   "outputs": [
    {
     "name": "stdout",
     "output_type": "stream",
     "text": [
      "   flowline_id             zone  travel_time total_travel_time    xcoord  \\\n",
      "1            1          surface            0                 0  5.462742   \n",
      "1            1      vadose_zone  2477.012721       2477.012721  5.462742   \n",
      "1            1  shallow_aquifer  2227.727738       4704.740459  5.462742   \n",
      "1            1   target_aquifer     0.175001        4704.91546  0.375000   \n",
      "\n",
      "  ycoord  zcoord          redox  temp_water  travel_distance  porosity  \\\n",
      "1      1     0.0         anoxic        11.0         0.000000      0.35   \n",
      "1      1    -5.0         anoxic        11.0        -9.908051      0.35   \n",
      "1      1   -15.0         anoxic        11.0        24.908051      0.35   \n",
      "1      1   -55.0  deeply_anoxic        11.0         5.462742      0.35   \n",
      "\n",
      "   dissolved_organic_carbon   pH  fraction_organic_carbon  solid_density  \n",
      "1                       0.0  7.0                   0.0010           2.65  \n",
      "1                       0.0  7.0                   0.0010           2.65  \n",
      "1                       0.0  7.0                   0.0005           2.65  \n",
      "1                       0.0  7.0                   0.0005           2.65  \n"
     ]
    }
   ],
   "source": [
    "print(phreatic_well.df_particle.head(4))"
   ]
  },
  {
   "cell_type": "code",
   "execution_count": 8,
   "metadata": {},
   "outputs": [
    {
     "name": "stdout",
     "output_type": "stream",
     "text": [
      "   flowline_id   flowline_type flowline_discharge particle_release_day  \\\n",
      "1            1  diffuse_source              0.075                 None   \n",
      "2            2  diffuse_source              0.675                 None   \n",
      "\n",
      "  endpoint_id  well_discharge removal_function  \n",
      "1       well1            7500              omp  \n",
      "2       well1            7500              omp  \n"
     ]
    }
   ],
   "source": [
    "print(phreatic_well.df_flowline.head(2))"
   ]
  },
  {
   "cell_type": "markdown",
   "metadata": {},
   "source": [
    "\n",
    "____________________________________\n",
    "\n",
    "\n",
    "Step 3: Collect removal parameters for the OMP (substance)\n",
    "------------------------------------------------------------\n",
    "\n",
    "You can retrieve the default removal parameters used to calculate the removal of organic micropollutants [OMP] \n",
    "in the SubstanceTransport class. The data are stored in a dictionary\n"
   ]
  },
  {
   "cell_type": "code",
   "execution_count": 9,
   "metadata": {},
   "outputs": [
    {
     "data": {
      "text/plain": [
       "{'substance_name': 'benzene',\n",
       " 'log_Koc': 1.92,\n",
       " 'molar_mass': 78.1,\n",
       " 'pKa': 99,\n",
       " 'omp_half_life': {'suboxic': 10.5, 'anoxic': 420, 'deeply_anoxic': 1e+99}}"
      ]
     },
     "execution_count": 9,
     "metadata": {},
     "output_type": "execute_result"
    }
   ],
   "source": [
    "test_substance = TR.Substance(substance_name='benzene')\n",
    "test_substance.substance_dict"
   ]
  },
  {
   "cell_type": "markdown",
   "metadata": {},
   "source": [
    "To obtain a list of Substances included in the Substance class, see substance_database"
   ]
  },
  {
   "cell_type": "code",
   "execution_count": 10,
   "metadata": {},
   "outputs": [
    {
     "name": "stdout",
     "output_type": "stream",
     "text": [
      "benzene \n",
      " {'substance_name': 'benzene', 'log_Koc': 1.92, 'molar_mass': 78.1, 'pKa': 99, 'omp_half_life': {'suboxic': 10.5, 'anoxic': 420, 'deeply_anoxic': 1e+99}} \n",
      "\n",
      "AMPA \n",
      " {'substance_name': 'AMPA', 'log_Koc': -0.36, 'molar_mass': 111.04, 'pKa': 0.4, 'omp_half_life': {'suboxic': 46, 'anoxic': 46, 'deeply_anoxic': 1e+99}} \n",
      "\n",
      "benzo(a)pyrene \n",
      " {'substance_name': 'benzo(a)pyrene', 'log_Koc': 6.43, 'molar_mass': 252.3, 'pKa': 99, 'omp_half_life': {'suboxic': 530, 'anoxic': 2120, 'deeply_anoxic': 2120}} \n",
      "\n",
      "OMP-X \n",
      " {'substance_name': 'OMP-X', 'log_Koc': 0, 'molar_mass': 100, 'pKa': 99, 'omp_half_life': {'suboxic': 1e+99, 'anoxic': 1e+99, 'deeply_anoxic': 1e+99}} \n",
      "\n"
     ]
    }
   ],
   "source": [
    "for key, val in test_substance.substance_database.items():\n",
    "    print(key,\"\\n\",val,\"\\n\")"
   ]
  },
  {
   "cell_type": "markdown",
   "metadata": {},
   "source": [
    "Optional: You may specify a different value for the substance parameters, for example\n",
    "a different half-life for the anoxic redox zone. This can be input in the Transport class\n",
    "and this will be used in the calculation for the removal of the OMP. "
   ]
  },
  {
   "cell_type": "code",
   "execution_count": 11,
   "metadata": {},
   "outputs": [],
   "source": [
    "# Define removal parameters of pollutant\n",
    "substance_benzene = TR.Substance(substance_name = 'benzene',\n",
    "                                partition_coefficient_water_organic_carbon=2,\n",
    "                                molar_mass = 78.1,\n",
    "                                dissociation_constant=1,\n",
    "                                halflife_suboxic=12, \n",
    "                                halflife_anoxic=420, \n",
    "                                halflife_deeply_anoxic=6000)"
   ]
  },
  {
   "cell_type": "markdown",
   "metadata": {},
   "source": [
    "If you have specified values for the substance (e.g. half-life, pKa, log_Koc),\n",
    "the default value is overwritten and used in the calculation of the removal. You can\n",
    "view the updated substance dict ('substance dictionary') from the concentration object"
   ]
  },
  {
   "cell_type": "code",
   "execution_count": 12,
   "metadata": {},
   "outputs": [
    {
     "data": {
      "text/plain": [
       "{'substance_name': 'benzene',\n",
       " 'log_Koc': 2,\n",
       " 'molar_mass': 78.1,\n",
       " 'pKa': 1,\n",
       " 'omp_half_life': {'suboxic': 12, 'anoxic': 420, 'deeply_anoxic': 6000}}"
      ]
     },
     "execution_count": 12,
     "metadata": {},
     "output_type": "execute_result"
    }
   ],
   "source": [
    "substance_benzene.substance_dict"
   ]
  },
  {
   "cell_type": "markdown",
   "metadata": {},
   "source": [
    "> Note: for microbial organisms call the MicrobialOrganism class.\n",
    "> See example for AnalyticalWell plus mbo removal.\n",
    "> \n",
    "> test_organism = TR.MicrobialOrganism(organism_name='MS2')\n",
    "> test_organism.organism_dict\n",
    "\n",
    "____________________________________\n",
    "\n",
    "\n",
    "Step 4: Run the Transport class\n",
    "--------------------------------\n",
    "To calculate the removal and the steady-state concentration in each zone, create a concentration\n",
    "object by running the Transport class with the phreatic_well object and specifying\n",
    "the OMP (or pathogen) of interest.\n",
    "\n",
    "In this example we use benzene. First we create the object and view the substance properties:"
   ]
  },
  {
   "cell_type": "code",
   "execution_count": 13,
   "metadata": {},
   "outputs": [
    {
     "data": {
      "text/plain": [
       "{'substance_name': 'benzene',\n",
       " 'log_Koc': 1.92,\n",
       " 'molar_mass': 78.1,\n",
       " 'pKa': 99,\n",
       " 'omp_half_life': {'suboxic': 10.5, 'anoxic': 420, 'deeply_anoxic': 1e+99}}"
      ]
     },
     "execution_count": 13,
     "metadata": {},
     "output_type": "execute_result"
    }
   ],
   "source": [
    "phreatic_transport = TR.Transport(well = phreatic_well, pollutant = test_substance)\n",
    "phreatic_transport.removal_parameters"
   ]
  },
  {
   "cell_type": "markdown",
   "metadata": {},
   "source": [
    "Then we can compute the removal by running the 'compute_omp_removal' function:"
   ]
  },
  {
   "cell_type": "code",
   "execution_count": 14,
   "metadata": {},
   "outputs": [],
   "source": [
    "phreatic_transport.compute_omp_removal()"
   ]
  },
  {
   "cell_type": "markdown",
   "metadata": {},
   "source": [
    "Once the removal has been calculated, you can view the steady-state concentration\n",
    "and breakthrough time per zone for the OMP in the df_particle:"
   ]
  },
  {
   "cell_type": "code",
   "execution_count": 15,
   "metadata": {},
   "outputs": [
    {
     "data": {
      "text/html": [
       "<div>\n",
       "<style scoped>\n",
       "    .dataframe tbody tr th:only-of-type {\n",
       "        vertical-align: middle;\n",
       "    }\n",
       "\n",
       "    .dataframe tbody tr th {\n",
       "        vertical-align: top;\n",
       "    }\n",
       "\n",
       "    .dataframe thead th {\n",
       "        text-align: right;\n",
       "    }\n",
       "</style>\n",
       "<table border=\"1\" class=\"dataframe\">\n",
       "  <thead>\n",
       "    <tr style=\"text-align: right;\">\n",
       "      <th></th>\n",
       "      <th>zone</th>\n",
       "      <th>steady_state_concentration</th>\n",
       "      <th>travel_time</th>\n",
       "    </tr>\n",
       "  </thead>\n",
       "  <tbody>\n",
       "    <tr>\n",
       "      <th>1</th>\n",
       "      <td>surface</td>\n",
       "      <td>100</td>\n",
       "      <td>0</td>\n",
       "    </tr>\n",
       "    <tr>\n",
       "      <th>1</th>\n",
       "      <td>vadose_zone</td>\n",
       "      <td>5.024012</td>\n",
       "      <td>2477.012721</td>\n",
       "    </tr>\n",
       "    <tr>\n",
       "      <th>1</th>\n",
       "      <td>shallow_aquifer</td>\n",
       "      <td>0.58186</td>\n",
       "      <td>2227.727738</td>\n",
       "    </tr>\n",
       "    <tr>\n",
       "      <th>1</th>\n",
       "      <td>target_aquifer</td>\n",
       "      <td>0.58186</td>\n",
       "      <td>0.175001</td>\n",
       "    </tr>\n",
       "    <tr>\n",
       "      <th>2</th>\n",
       "      <td>surface</td>\n",
       "      <td>100</td>\n",
       "      <td>0</td>\n",
       "    </tr>\n",
       "    <tr>\n",
       "      <th>...</th>\n",
       "      <td>...</td>\n",
       "      <td>...</td>\n",
       "      <td>...</td>\n",
       "    </tr>\n",
       "    <tr>\n",
       "      <th>104</th>\n",
       "      <td>target_aquifer</td>\n",
       "      <td>0.320597</td>\n",
       "      <td>92720.553915</td>\n",
       "    </tr>\n",
       "    <tr>\n",
       "      <th>105</th>\n",
       "      <td>surface</td>\n",
       "      <td>100</td>\n",
       "      <td>0</td>\n",
       "    </tr>\n",
       "    <tr>\n",
       "      <th>105</th>\n",
       "      <td>vadose_zone</td>\n",
       "      <td>22.105099</td>\n",
       "      <td>1250.010658</td>\n",
       "    </tr>\n",
       "    <tr>\n",
       "      <th>105</th>\n",
       "      <td>shallow_aquifer</td>\n",
       "      <td>0.320515</td>\n",
       "      <td>4374.981348</td>\n",
       "    </tr>\n",
       "    <tr>\n",
       "      <th>105</th>\n",
       "      <td>target_aquifer</td>\n",
       "      <td>0.320515</td>\n",
       "      <td>161180.95651</td>\n",
       "    </tr>\n",
       "  </tbody>\n",
       "</table>\n",
       "<p>420 rows × 3 columns</p>\n",
       "</div>"
      ],
      "text/plain": [
       "                zone steady_state_concentration   travel_time\n",
       "1            surface                        100             0\n",
       "1        vadose_zone                   5.024012   2477.012721\n",
       "1    shallow_aquifer                    0.58186   2227.727738\n",
       "1     target_aquifer                    0.58186      0.175001\n",
       "2            surface                        100             0\n",
       "..               ...                        ...           ...\n",
       "104   target_aquifer                   0.320597  92720.553915\n",
       "105          surface                        100             0\n",
       "105      vadose_zone                  22.105099   1250.010658\n",
       "105  shallow_aquifer                   0.320515   4374.981348\n",
       "105   target_aquifer                   0.320515  161180.95651\n",
       "\n",
       "[420 rows x 3 columns]"
      ]
     },
     "execution_count": 15,
     "metadata": {},
     "output_type": "execute_result"
    }
   ],
   "source": [
    "phreatic_transport.df_particle.loc[:,['zone', 'steady_state_concentration', 'travel_time']]"
   ]
  },
  {
   "cell_type": "markdown",
   "metadata": {},
   "source": [
    "View the steady-state concentration of the flowline or the steady-state\n",
    "contribution of the flowline to the concentration in the well"
   ]
  },
  {
   "cell_type": "code",
   "execution_count": 16,
   "metadata": {},
   "outputs": [
    {
     "data": {
      "text/html": [
       "<div>\n",
       "<style scoped>\n",
       "    .dataframe tbody tr th:only-of-type {\n",
       "        vertical-align: middle;\n",
       "    }\n",
       "\n",
       "    .dataframe tbody tr th {\n",
       "        vertical-align: top;\n",
       "    }\n",
       "\n",
       "    .dataframe thead th {\n",
       "        text-align: right;\n",
       "    }\n",
       "</style>\n",
       "<table border=\"1\" class=\"dataframe\">\n",
       "  <thead>\n",
       "    <tr style=\"text-align: right;\">\n",
       "      <th></th>\n",
       "      <th>breakthrough_concentration</th>\n",
       "      <th>total_breakthrough_travel_time</th>\n",
       "    </tr>\n",
       "  </thead>\n",
       "  <tbody>\n",
       "    <tr>\n",
       "      <th>1</th>\n",
       "      <td>0.581860</td>\n",
       "      <td>16618</td>\n",
       "    </tr>\n",
       "    <tr>\n",
       "      <th>2</th>\n",
       "      <td>0.516445</td>\n",
       "      <td>16702</td>\n",
       "    </tr>\n",
       "    <tr>\n",
       "      <th>3</th>\n",
       "      <td>0.458384</td>\n",
       "      <td>16805</td>\n",
       "    </tr>\n",
       "    <tr>\n",
       "      <th>4</th>\n",
       "      <td>0.421722</td>\n",
       "      <td>16956</td>\n",
       "    </tr>\n",
       "    <tr>\n",
       "      <th>5</th>\n",
       "      <td>0.406851</td>\n",
       "      <td>17098</td>\n",
       "    </tr>\n",
       "  </tbody>\n",
       "</table>\n",
       "</div>"
      ],
      "text/plain": [
       "   breakthrough_concentration  total_breakthrough_travel_time\n",
       "1                    0.581860                           16618\n",
       "2                    0.516445                           16702\n",
       "3                    0.458384                           16805\n",
       "4                    0.421722                           16956\n",
       "5                    0.406851                           17098"
      ]
     },
     "execution_count": 16,
     "metadata": {},
     "output_type": "execute_result"
    }
   ],
   "source": [
    "phreatic_transport.df_flowline.loc[:,['breakthrough_concentration', 'total_breakthrough_travel_time']].head(5)\n"
   ]
  },
  {
   "cell_type": "markdown",
   "metadata": {},
   "source": [
    "Plot the breakthrough curve at the well over time:"
   ]
  },
  {
   "cell_type": "code",
   "execution_count": 17,
   "metadata": {},
   "outputs": [
    {
     "data": {
      "image/png": "[encoded data removed]",
      "text/plain": [
       "<Figure size 720x360 with 1 Axes>"
      ]
     },
     "metadata": {
      "needs_background": "light"
     },
     "output_type": "display_data"
    }
   ],
   "source": [
    "benzene_plot = phreatic_transport.plot_concentration(ylim=[0,10 ])"
   ]
  },
  {
   "cell_type": "markdown",
   "metadata": {},
   "source": [
    "You can also compute the removal for a different OMP of interest:\n",
    "\n",
    "* OMP-X: a ficticous OMP with no degradation or sorption\n",
    "* AMPA\n",
    "* benzo(a)pyrene\n",
    "\n",
    "To do so you can use the original schematisation, but specify a different OMP when you create\n",
    "the Transport object."
   ]
  },
  {
   "cell_type": "code",
   "execution_count": 18,
   "metadata": {},
   "outputs": [
    {
     "name": "stdout",
     "output_type": "stream",
     "text": [
      "{'substance_name': 'OMP-X', 'log_Koc': 0, 'molar_mass': 100, 'pKa': 99, 'omp_half_life': {'suboxic': 1e+99, 'anoxic': 1e+99, 'deeply_anoxic': 1e+99}}\n"
     ]
    }
   ],
   "source": [
    "# phreatic_well = AW.AnalyticalWell(phreatic_schematisation)\n",
    "phreatic_well.phreatic() \n",
    "# removal parameters OMP-X (default)\n",
    "substance_ompx = TR.Substance(substance_name = \"OMP-X\")\n",
    "print(substance_ompx.substance_dict)\n",
    "# Transport object\n",
    "phreatic_transport = TR.Transport(phreatic_well, pollutant = substance_ompx)\n",
    "phreatic_transport.compute_omp_removal()\n"
   ]
  },
  {
   "cell_type": "code",
   "execution_count": 19,
   "metadata": {},
   "outputs": [
    {
     "data": {
      "image/png": "[encoded data removed]",
      "text/plain": [
       "<Figure size 720x360 with 1 Axes>"
      ]
     },
     "metadata": {
      "needs_background": "light"
     },
     "output_type": "display_data"
    }
   ],
   "source": [
    "\n",
    "# Plot the breakthrough concentration\n",
    "omp_x_plot = phreatic_transport.plot_concentration(ylim=[0,100 ])\n"
   ]
  },
  {
   "cell_type": "code",
   "execution_count": 20,
   "metadata": {},
   "outputs": [
    {
     "name": "stdout",
     "output_type": "stream",
     "text": [
      "{'substance_name': 'benzo(a)pyrene', 'log_Koc': 6.43, 'molar_mass': 252.3, 'pKa': 99, 'omp_half_life': {'suboxic': 530, 'anoxic': 2120, 'deeply_anoxic': 2120}}\n"
     ]
    }
   ],
   "source": [
    "# phreatic_well = AW.AnalyticalWell(phreatic_schematisation)\n",
    "phreatic_well.phreatic() \n",
    "\n",
    "# removal parameters benzo(a)pyrene (default)\n",
    "substance_benzpy = TR.Substance(substance_name = \"benzo(a)pyrene\")\n",
    "print(substance_benzpy.substance_dict)\n",
    "# Transport object\n",
    "phreatic_transport = TR.Transport(phreatic_well, pollutant = substance_benzpy)\n",
    "phreatic_transport.compute_omp_removal()\n"
   ]
  },
  {
   "cell_type": "code",
   "execution_count": 21,
   "metadata": {},
   "outputs": [
    {
     "data": {
      "image/png": "[encoded data removed]",
      "text/plain": [
       "<Figure size 720x360 with 1 Axes>"
      ]
     },
     "metadata": {
      "needs_background": "light"
     },
     "output_type": "display_data"
    }
   ],
   "source": [
    "\n",
    "benzo_plot = phreatic_transport.plot_concentration(ylim=[0,1])\n"
   ]
  },
  {
   "cell_type": "code",
   "execution_count": 22,
   "metadata": {},
   "outputs": [
    {
     "name": "stdout",
     "output_type": "stream",
     "text": [
      "{'substance_name': 'AMPA', 'log_Koc': -0.36, 'molar_mass': 111.04, 'pKa': 0.4, 'omp_half_life': {'suboxic': 46, 'anoxic': 46, 'deeply_anoxic': 1e+99}}\n"
     ]
    }
   ],
   "source": [
    "# phreatic_well = AW.AnalyticalWell(phreatic_schematisation)\n",
    "phreatic_well.phreatic() \n",
    "# removal parameters AMPA (default)\n",
    "substance_ampa = TR.Substance(substance_name = \"AMPA\")\n",
    "print(substance_ampa.substance_dict)\n",
    "# Transport object\n",
    "phreatic_concentration = TR.Transport(phreatic_well, pollutant = substance_ampa)\n",
    "phreatic_concentration.compute_omp_removal()\n"
   ]
  },
  {
   "cell_type": "code",
   "execution_count": 23,
   "metadata": {},
   "outputs": [
    {
     "data": {
      "image/png": "[encoded data removed]",
      "text/plain": [
       "<Figure size 720x360 with 1 Axes>"
      ]
     },
     "metadata": {
      "needs_background": "light"
     },
     "output_type": "display_data"
    }
   ],
   "source": [
    "\n",
    "ampa_plot = phreatic_concentration.plot_concentration( ylim=[0,1])\n"
   ]
  },
  {
   "cell_type": "markdown",
   "metadata": {},
   "source": [
    "The total travel time can be plotted as a function of radial distance from the well, or as a function\n",
    "of the cumulative fraction of abstracted water: "
   ]
  },
  {
   "cell_type": "code",
   "execution_count": 24,
   "metadata": {},
   "outputs": [
    {
     "data": {
      "image/png": "[encoded data removed]",
      "text/plain": [
       "<Figure size 720x360 with 1 Axes>"
      ]
     },
     "metadata": {
      "needs_background": "light"
     },
     "output_type": "display_data"
    }
   ],
   "source": [
    "radial_plot = phreatic_well.plot_travel_time_versus_radial_distance(xlim=[0, 2000], ylim=[1e3, 1e6])\n"
   ]
  },
  {
   "cell_type": "code",
   "execution_count": 25,
   "metadata": {},
   "outputs": [
    {
     "data": {
      "image/png": "[encoded data removed]",
      "text/plain": [
       "<Figure size 720x360 with 1 Axes>"
      ]
     },
     "metadata": {
      "needs_background": "light"
     },
     "output_type": "display_data"
    }
   ],
   "source": [
    "cumulative_plot = phreatic_well.plot_travel_time_versus_cumulative_abstracted_water(xlim=[0, 1], ylim=[1e3, 1e6])"
   ]
  }
 ],
 "metadata": {
  "kernelspec": {
   "display_name": "Python 3.9.5 ('base')",
   "language": "python",
   "name": "python3"
  },
  "language_info": {
   "codemirror_mode": {
    "name": "ipython",
    "version": 3
   },
   "file_extension": ".py",
   "mimetype": "text/x-python",
   "name": "python",
   "nbconvert_exporter": "python",
   "pygments_lexer": "ipython3",
   "version": "3.9.5"
  },
  "orig_nbformat": 4,
  "vscode": {
   "interpreter": {
    "hash": "b1927a54a93164515be0cd943a58faec848a387ed14458738e2b63e769905115"
   }
  }
 },
 "nbformat": 4,
 "nbformat_minor": 2
}
