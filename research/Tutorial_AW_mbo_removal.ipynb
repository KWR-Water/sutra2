{
 "cells": [
  {
   "cell_type": "markdown",
   "metadata": {},
   "source": [
    "--------------------------------------------------------------------------------\n",
    "Travel time calculation using AnalyticalWell class, combined with 'omp removal'\n",
    "--------------------------------------------------------------------------------\n",
    "\n",
    "Example to calculate the travel time distribution per geological layer for a \n",
    ".. phreatic scheme, and to calculate the microbial organism removal. \n",
    ".. For an extensive description of the steps, see the basic example [AnalyticalWell & OMP removal](https://github.com/KWR-Water/sutra2/blob/main/research/Tutorial_AW_omp_removal.ipynb).\n",
    "\n",
    "________________________________________\n",
    "\n",
    "Import packages\n",
    "-----------------\n",
    "\n",
    "First we import the necessary python packages"
   ]
  },
  {
   "cell_type": "code",
   "execution_count": 1,
   "metadata": {},
   "outputs": [
    {
     "name": "stdout",
     "output_type": "stream",
     "text": [
      "3.3.5\n"
     ]
    }
   ],
   "source": [
    "import pandas as pd\n",
    "from pathlib import Path\n",
    "from set_cwd_to_project_root import project_root\n",
    "\n",
    "import matplotlib.pyplot as plt\n",
    "import numpy as np\n",
    "import pandas as pd\n",
    "import os\n",
    "from pandas import read_csv\n",
    "from pandas import read_excel\n",
    "import math\n",
    "from scipy.special import kn as besselk\n",
    "import sutra2.Analytical_Well as AW\n",
    "import sutra2.ModPath_Well as mpw\n",
    "import sutra2.Transport_Removal as TR\n",
    "\n",
    "import warnings \n",
    "warnings.filterwarnings(action= 'ignore')\n",
    "\n",
    "# # get directory of this file\n",
    "# path = Path(__file__).parent\n",
    "%load_ext autoreload\n",
    "%autoreload 2"
   ]
  },
  {
   "cell_type": "markdown",
   "metadata": {},
   "source": [
    "Step 1: Define the HydroChemicalSchematisation\n",
    "-----------------------------------------------\n",
    "The first step is to define the hydrogeochemistry of the system using the HydroChemicalSchematisation class.\n",
    "\n",
    "Lets start with a simple example defining a HydroChemicalSchematisation object for a phreatic aquifer:"
   ]
  },
  {
   "cell_type": "code",
   "execution_count": 2,
   "metadata": {},
   "outputs": [],
   "source": [
    "phreatic_schematisation = AW.HydroChemicalSchematisation(schematisation_type='phreatic',\n",
    "                                                        computation_method='analytical',\n",
    "                                                        well_discharge=-7500, #m3/day\n",
    "                                                        recharge_rate=0.0008, #m/day\n",
    "                                                        thickness_vadose_zone_at_boundary=5, #m\n",
    "                                                        thickness_shallow_aquifer=10,  #m\n",
    "                                                        thickness_target_aquifer=40, #m\n",
    "                                                        hor_permeability_target_aquifer=35, #m/day\n",
    "                                                        redox_vadose_zone='anoxic',\n",
    "                                                        redox_shallow_aquifer='anoxic',\n",
    "                                                        redox_target_aquifer='deeply_anoxic',\n",
    "                                                        pH_shallow_aquifer=7.,\n",
    "                                                        pH_target_aquifer=8.,\n",
    "                                                        temp_water=12.,\n",
    "                                                        diffuse_input_concentration = 1e5, #N/L\n",
    "                                                        )\n"
   ]
  },
  {
   "cell_type": "markdown",
   "metadata": {},
   "source": [
    "If not defined, default values are used for the rest of the parameters. To view all parameters in the schematisation:"
   ]
  },
  {
   "cell_type": "code",
   "execution_count": 3,
   "metadata": {},
   "outputs": [
    {
     "data": {
      "text/plain": [
       "{'schematisation_type': 'phreatic',\n",
       " 'computation_method': 'analytical',\n",
       " 'removal_function': 'omp',\n",
       " 'what_to_export': 'all',\n",
       " 'well_name': 'well1',\n",
       " 'temp_correction_Koc': True,\n",
       " 'temp_correction_halflife': True,\n",
       " 'biodegradation_sorbed_phase': True,\n",
       " 'compute_thickness_vadose_zone': True,\n",
       " 'ground_surface': 0.0,\n",
       " 'thickness_vadose_zone_at_boundary': 5,\n",
       " 'bottom_vadose_zone_at_boundary': -5.0,\n",
       " 'thickness_shallow_aquifer': 10,\n",
       " 'bottom_shallow_aquifer': -15.0,\n",
       " 'thickness_target_aquifer': 40,\n",
       " 'bottom_target_aquifer': -55.0,\n",
       " 'thickness_full_capillary_fringe': 0.0,\n",
       " 'porosity_vadose_zone': 0.35,\n",
       " 'porosity_shallow_aquifer': 0.35,\n",
       " 'porosity_target_aquifer': 0.35,\n",
       " 'porosity_gravelpack': 0.35,\n",
       " 'porosity_clayseal': 0.35,\n",
       " 'moisture_content_vadose_zone': 0.2,\n",
       " 'solid_density_vadose_zone': 2.65,\n",
       " 'solid_density_shallow_aquifer': 2.65,\n",
       " 'solid_density_target_aquifer': 2.65,\n",
       " 'fraction_organic_carbon_vadose_zone': 0.001,\n",
       " 'fraction_organic_carbon_shallow_aquifer': 0.0005,\n",
       " 'fraction_organic_carbon_target_aquifer': 0.0005,\n",
       " 'grainsize_vadose_zone': 0.00025,\n",
       " 'grainsize_shallow_aquifer': 0.00025,\n",
       " 'grainsize_target_aquifer': 0.00025,\n",
       " 'redox_vadose_zone': 'anoxic',\n",
       " 'redox_shallow_aquifer': 'anoxic',\n",
       " 'redox_target_aquifer': 'deeply_anoxic',\n",
       " 'dissolved_organic_carbon_vadose_zone': 0.0,\n",
       " 'dissolved_organic_carbon_shallow_aquifer': 0.0,\n",
       " 'dissolved_organic_carbon_target_aquifer': 0.0,\n",
       " 'dissolved_organic_carbon_infiltration_water': 0.0,\n",
       " 'total_organic_carbon_infiltration_water': 0.0,\n",
       " 'pH_vadose_zone': 7.0,\n",
       " 'pH_shallow_aquifer': 7.0,\n",
       " 'pH_target_aquifer': 8.0,\n",
       " 'temp_water': 12.0,\n",
       " 'temperature_vadose_zone': 12.0,\n",
       " 'temperature_shallow_aquifer': 12.0,\n",
       " 'temperature_target_aquifer': 12.0,\n",
       " 'recharge_rate': 0.0008,\n",
       " 'well_discharge': -7500,\n",
       " 'basin_length': None,\n",
       " 'basin_width': None,\n",
       " 'basin_xmin': None,\n",
       " 'basin_xmax': None,\n",
       " 'bottom_basin': None,\n",
       " 'bottom_sludge': None,\n",
       " 'hor_permeability_sludge': None,\n",
       " 'vertical_anisotropy_sludge': None,\n",
       " 'head_basin': None,\n",
       " 'basin_infiltration_rate': None,\n",
       " 'travel_time_h20_shallow_aquifer': None,\n",
       " 'minimum_travel_time_h20_shallow_aquifer': None,\n",
       " 'travel_time_h20_deeper_aquifer': None,\n",
       " 'minimum_travel_time_h20_target_aquifer': None,\n",
       " 'diameter_borehole': 0.75,\n",
       " 'top_filterscreen': -15.0,\n",
       " 'bottom_filterscreen': -55.0,\n",
       " 'diameter_filterscreen': 0.2,\n",
       " 'inner_diameter_filterscreen': 0.2,\n",
       " 'top_gravelpack': -15.0,\n",
       " 'bottom_gravelpack': -55.0,\n",
       " 'diameter_gravelpack': 0.75,\n",
       " 'inner_diameter_gravelpack': 0.2,\n",
       " 'grainsize_gravelpack': 0.001,\n",
       " 'top_clayseal': 0.0,\n",
       " 'bottom_clayseal': -15.0,\n",
       " 'diameter_clayseal': 0.75,\n",
       " 'inner_diameter_clayseal': 0.2,\n",
       " 'grainsize_clayseal': 1e-06,\n",
       " 'hor_permeability_shallow_aquifer': 1.0,\n",
       " 'hor_permeability_target_aquifer': 35,\n",
       " 'hor_permeability_gravelpack': 1000,\n",
       " 'hor_permeability_clayseal': 0.001,\n",
       " 'vertical_anisotropy_shallow_aquifer': 1.0,\n",
       " 'vertical_anisotropy_target_aquifer': 1.0,\n",
       " 'vertical_anisotropy_gravelpack': 1.0,\n",
       " 'vertical_anisotropy_clayseal': 1.0,\n",
       " 'vertical_permeability_target_aquifer': 35.0,\n",
       " 'vertical_permeability_shallow_aquifer': 1.0,\n",
       " 'vertical_resistance_shallow_aquifer': 10.0,\n",
       " 'KD': 1400,\n",
       " 'groundwater_level': -5.0,\n",
       " 'organism': None,\n",
       " 'substance': None,\n",
       " 'diffuse_input_concentration': 100000.0,\n",
       " 'point_input_concentration': None,\n",
       " 'start_date_well': datetime.datetime(1950, 1, 1, 0, 0),\n",
       " 'start_date_contamination': datetime.datetime(1950, 1, 1, 0, 0),\n",
       " 'compute_contamination_for_date': datetime.datetime(2000, 1, 1, 0, 0),\n",
       " 'end_date_contamination': None,\n",
       " 'depth_point_contamination': 0.0,\n",
       " 'distance_point_contamination_from_well': array([[1]]),\n",
       " 'discharge_point_contamination': None,\n",
       " 'source_area_radius': None,\n",
       " 'number_of_spreading_distance': None,\n",
       " 'model_radius': 1727.4707473566773,\n",
       " 'model_width': 1,\n",
       " 'model_radius_computed': None,\n",
       " 'relative_position_starting_points_radial': None,\n",
       " 'relative_position_starting_points_in_basin': None,\n",
       " 'relative_position_starting_points_outside_basin': None,\n",
       " 'particle_release_day': None,\n",
       " 'ncols_near_well': 20,\n",
       " 'ncols_far_well': 30,\n",
       " 'nlayers_shallow_aquifer': 10,\n",
       " 'nlayers_target_aquifer': 40}"
      ]
     },
     "execution_count": 3,
     "metadata": {},
     "output_type": "execute_result"
    }
   ],
   "source": [
    "phreatic_schematisation.__dict__"
   ]
  },
  {
   "cell_type": "markdown",
   "metadata": {},
   "source": [
    "____________________________________\n",
    "\n",
    "\n",
    "Step 2: Run the AnalyticalWell class\n",
    "-------------------------------------\n",
    "Next we create an AnalyticalWell object for the HydroChemicalSchematisation object we just made."
   ]
  },
  {
   "cell_type": "code",
   "execution_count": 4,
   "metadata": {},
   "outputs": [],
   "source": [
    "phreatic_well = AW.AnalyticalWell(phreatic_schematisation)"
   ]
  },
  {
   "cell_type": "markdown",
   "metadata": {},
   "source": [
    "Then we calculate the travel time for each of the zones unsaturated, shallow aquifer and target aquifer zones\n",
    "by running the .phreatic() function for the well object. "
   ]
  },
  {
   "cell_type": "code",
   "execution_count": 5,
   "metadata": {},
   "outputs": [],
   "source": [
    "phreatic_well.phreatic()"
   ]
  },
  {
   "cell_type": "markdown",
   "metadata": {},
   "source": [
    "From the AnalyticalWell class two other important outputs are:\n",
    "\n",
    "* df_particle - Pandas dataframe with data about the different flowlines per zone (unsaturated/shallow/target)\n",
    "* df_flowline - Pandas dataframe with data about the flowlines per flowline (eg. total travel time per flowline)\n"
   ]
  },
  {
   "cell_type": "code",
   "execution_count": 6,
   "metadata": {},
   "outputs": [
    {
     "name": "stdout",
     "output_type": "stream",
     "text": [
      "   flowline_id             zone  travel_time total_travel_time    xcoord  \\\n",
      "1            1          surface            0                 0  5.462742   \n",
      "1            1      vadose_zone  2477.012721       2477.012721  5.462742   \n",
      "1            1  shallow_aquifer  2227.727738       4704.740459  5.462742   \n",
      "1            1   target_aquifer     0.175001        4704.91546  0.375000   \n",
      "\n",
      "  ycoord  zcoord          redox  temp_water  travel_distance  porosity  \\\n",
      "1      1     0.0         anoxic        12.0         0.000000      0.35   \n",
      "1      1    -5.0         anoxic        12.0        -9.908051      0.35   \n",
      "1      1   -15.0         anoxic        12.0        24.908051      0.35   \n",
      "1      1   -55.0  deeply_anoxic        12.0         5.462742      0.35   \n",
      "\n",
      "   dissolved_organic_carbon   pH  fraction_organic_carbon  solid_density  \n",
      "1                       0.0  7.0                   0.0010           2.65  \n",
      "1                       0.0  7.0                   0.0010           2.65  \n",
      "1                       0.0  7.0                   0.0005           2.65  \n",
      "1                       0.0  8.0                   0.0005           2.65  \n"
     ]
    }
   ],
   "source": [
    "print(phreatic_well.df_particle.head(4))"
   ]
  },
  {
   "cell_type": "markdown",
   "metadata": {},
   "source": [
    "\n",
    "____________________________________\n",
    "\n",
    "\n",
    "Step 3: Collect removal parameters for the mbo (MicrobialOrganism)\n",
    "-------------------------------------------------------------------\n",
    "\n",
    "You can retrieve the default removal parameters used to calculate the removal of microbial organisms [mbo] \n",
    "in the Transport class. The data are stored in a dictionary. In the example, plant pathogen 'solani' is used."
   ]
  },
  {
   "cell_type": "code",
   "execution_count": 7,
   "metadata": {},
   "outputs": [],
   "source": [
    "test_organism = TR.MicrobialOrganism(organism_name='solani', organism_diam = 2.731e-6)"
   ]
  },
  {
   "cell_type": "markdown",
   "metadata": {},
   "source": [
    "To obtain a list of Organisms included in the MicrobialOrganism class, see organism_database."
   ]
  },
  {
   "cell_type": "code",
   "execution_count": 8,
   "metadata": {},
   "outputs": [
    {
     "name": "stdout",
     "output_type": "stream",
     "text": [
      "solani \n",
      " {'organism_name': 'solani', 'alpha0': {'suboxic': 0.037, 'anoxic': 0.00037, 'deeply_anoxic': 0.00037}, 'pH0': {'suboxic': 7.5, 'anoxic': 7.5, 'deeply_anoxic': 7.5}, 'organism_diam': 2.731e-06, 'mu1': {'suboxic': 1.2472, 'anoxic': 0.1151, 'deeply_anoxic': 0.1151}} \n",
      "\n",
      "carotovorum \n",
      " {'organism_name': 'carotovorum', 'alpha0': {'suboxic': 0.3, 'anoxic': 0.577, 'deeply_anoxic': 0.577}, 'pH0': {'suboxic': 7.5, 'anoxic': 7.5, 'deeply_anoxic': 7.5}, 'organism_diam': 1.803e-06, 'mu1': {'suboxic': 1.2664, 'anoxic': 0.1279, 'deeply_anoxic': 0.1279}} \n",
      "\n",
      "solanacearum \n",
      " {'organism_name': 'solanacearum', 'alpha0': {'suboxic': 0.011, 'anoxic': 0.456, 'deeply_anoxic': 0.456}, 'pH0': {'suboxic': 7.5, 'anoxic': 7.5, 'deeply_anoxic': 7.5}, 'organism_diam': 1.945e-06, 'mu1': {'suboxic': 0.3519, 'anoxic': 0.1637, 'deeply_anoxic': 0.1637}} \n",
      "\n"
     ]
    }
   ],
   "source": [
    "for key, val in test_organism.micro_organism_database.items():\n",
    "    print(key,\"\\n\",val,\"\\n\")"
   ]
  },
  {
   "cell_type": "markdown",
   "metadata": {},
   "source": [
    "Optional: You may specify a different value for the organism removal parameters, for example\n",
    "a different inactivation coefficient [mu1] for the anoxic redox zone. This can be input in the Transport class\n",
    "and this will be used in the calculation for the removal of the microbial organism. "
   ]
  },
  {
   "cell_type": "code",
   "execution_count": 9,
   "metadata": {},
   "outputs": [],
   "source": [
    "# Define removal parameters of pollutant\n",
    "organism_solani_anox = TR.MicrobialOrganism(organism_name = 'solani',\n",
    "                                    alpha0_suboxic=None,\n",
    "                                    alpha0_anoxic=1.e-4,\n",
    "                                    alpha0_deeply_anoxic=1.e-5,\n",
    "                                    pH0_suboxic=None,\n",
    "                                    pH0_anoxic=7.5,\n",
    "                                    pH0_deeply_anoxic=7.5,\n",
    "                                    mu1_suboxic=None,\n",
    "                                    mu1_anoxic=0.0001,\n",
    "                                    mu1_deeply_anoxic=0.00001,\n",
    "                                    )"
   ]
  },
  {
   "cell_type": "markdown",
   "metadata": {},
   "source": [
    "If you have specified values for the mbo (e.g. alpha0, pH0, mu1),\n",
    "the default value is overwritten and used in the calculation of the removal. You can\n",
    "view the updated organism removal parameters from the concentration object"
   ]
  },
  {
   "cell_type": "code",
   "execution_count": 10,
   "metadata": {},
   "outputs": [
    {
     "data": {
      "text/plain": [
       "{'organism_name': 'solani',\n",
       " 'alpha0': {'suboxic': 0.037, 'anoxic': 0.0001, 'deeply_anoxic': 1e-05},\n",
       " 'pH0': {'suboxic': 7.5, 'anoxic': 7.5, 'deeply_anoxic': 7.5},\n",
       " 'organism_diam': 2.731e-06,\n",
       " 'mu1': {'suboxic': 1.2472, 'anoxic': 0.0001, 'deeply_anoxic': 1e-05}}"
      ]
     },
     "execution_count": 10,
     "metadata": {},
     "output_type": "execute_result"
    }
   ],
   "source": [
    "organism_solani_anox.organism_dict"
   ]
  },
  {
   "cell_type": "markdown",
   "metadata": {},
   "source": [
    "> Note: for organic micropollutants call the Substance class.\n",
    "> See example for AnalyticalWell plus omp removal. e.g.:\n",
    "> \n",
    "> test_substance = TR.Substance(substance_name='benzene')\n",
    "> test_substance.substance_dict\n",
    "\n",
    "____________________________________\n",
    "\n",
    "\n",
    "Step 4: Run the Transport class\n",
    "--------------------------------\n",
    "To calculate the removal and the steady-state concentration in each zone, create a concentration\n",
    "object by running the Transport class with the phreatic_well object and specifying\n",
    "the microbial organism of interest.\n",
    "\n",
    "In this example we use solani. First we create the object and view the substance properties:"
   ]
  },
  {
   "cell_type": "code",
   "execution_count": 11,
   "metadata": {},
   "outputs": [
    {
     "data": {
      "text/plain": [
       "{'organism_name': 'solani',\n",
       " 'alpha0': {'suboxic': 0.037, 'anoxic': 0.0001, 'deeply_anoxic': 1e-05},\n",
       " 'pH0': {'suboxic': 7.5, 'anoxic': 7.5, 'deeply_anoxic': 7.5},\n",
       " 'organism_diam': 2.731e-06,\n",
       " 'mu1': {'suboxic': 1.2472, 'anoxic': 0.0001, 'deeply_anoxic': 1e-05}}"
      ]
     },
     "execution_count": 11,
     "metadata": {},
     "output_type": "execute_result"
    }
   ],
   "source": [
    "# Call transport class\n",
    "phreatic_transport = TR.Transport(well = phreatic_well, pollutant = organism_solani_anox)\n",
    "# check removal parameters\n",
    "phreatic_transport.removal_parameters\n"
   ]
  },
  {
   "cell_type": "markdown",
   "metadata": {},
   "source": [
    "Then we can compute the removal by running the 'calc_advective_microbial_removal' function"
   ]
  },
  {
   "cell_type": "code",
   "execution_count": 12,
   "metadata": {},
   "outputs": [
    {
     "name": "stdout",
     "output_type": "stream",
     "text": [
      "endpoint_id list: ['well1']\n",
      "Final concentration well1: 6.816917381390487e-60\n"
     ]
    }
   ],
   "source": [
    "# list endpoint ids\n",
    "endpoint_ids = phreatic_transport.well.df_flowline.loc[:,\"endpoint_id\"].unique()\n",
    "print(f\"endpoint_id list: {endpoint_ids}\")\n",
    "\n",
    "# keep track of final cocnentration per endpoint_id\n",
    "C_final = {}\n",
    "# Update df_flowline and df_particle. Calculate final concentration at endpoint_id(s)\n",
    "for endpoint_id in endpoint_ids:\n",
    "    df_particle, df_flowline, C_final[endpoint_id] = phreatic_transport.calc_advective_microbial_removal(\n",
    "                                                endpoint_id = endpoint_id)\n",
    "    print(f\"Final concentration {endpoint_id}: {C_final[endpoint_id]}\")\n"
   ]
  },
  {
   "cell_type": "code",
   "execution_count": 13,
   "metadata": {},
   "outputs": [
    {
     "data": {
      "text/html": [
       "<div>\n",
       "<style scoped>\n",
       "    .dataframe tbody tr th:only-of-type {\n",
       "        vertical-align: middle;\n",
       "    }\n",
       "\n",
       "    .dataframe tbody tr th {\n",
       "        vertical-align: top;\n",
       "    }\n",
       "\n",
       "    .dataframe thead th {\n",
       "        text-align: right;\n",
       "    }\n",
       "</style>\n",
       "<table border=\"1\" class=\"dataframe\">\n",
       "  <thead>\n",
       "    <tr style=\"text-align: right;\">\n",
       "      <th></th>\n",
       "      <th>flowline_id</th>\n",
       "      <th>zone</th>\n",
       "      <th>travel_time</th>\n",
       "      <th>total_travel_time</th>\n",
       "      <th>xcoord</th>\n",
       "      <th>ycoord</th>\n",
       "      <th>zcoord</th>\n",
       "      <th>redox</th>\n",
       "      <th>temp_water</th>\n",
       "      <th>travel_distance</th>\n",
       "      <th>porosity</th>\n",
       "      <th>dissolved_organic_carbon</th>\n",
       "      <th>pH</th>\n",
       "      <th>fraction_organic_carbon</th>\n",
       "      <th>solid_density</th>\n",
       "      <th>mu1</th>\n",
       "      <th>alpha0</th>\n",
       "      <th>pH0</th>\n",
       "      <th>relative_distance</th>\n",
       "      <th>porewater_velocity</th>\n",
       "    </tr>\n",
       "  </thead>\n",
       "  <tbody>\n",
       "    <tr>\n",
       "      <th>1</th>\n",
       "      <td>1</td>\n",
       "      <td>surface</td>\n",
       "      <td>0</td>\n",
       "      <td>0</td>\n",
       "      <td>5.462742</td>\n",
       "      <td>1</td>\n",
       "      <td>0.0</td>\n",
       "      <td>anoxic</td>\n",
       "      <td>12.0</td>\n",
       "      <td>0.000000</td>\n",
       "      <td>0.35</td>\n",
       "      <td>0.0</td>\n",
       "      <td>7.0</td>\n",
       "      <td>0.0010</td>\n",
       "      <td>2.65</td>\n",
       "      <td>0.00010</td>\n",
       "      <td>0.00010</td>\n",
       "      <td>7.5</td>\n",
       "      <td>None</td>\n",
       "      <td>None</td>\n",
       "    </tr>\n",
       "    <tr>\n",
       "      <th>1</th>\n",
       "      <td>1</td>\n",
       "      <td>vadose_zone</td>\n",
       "      <td>2477.012721</td>\n",
       "      <td>2477.012721</td>\n",
       "      <td>5.462742</td>\n",
       "      <td>1</td>\n",
       "      <td>-5.0</td>\n",
       "      <td>anoxic</td>\n",
       "      <td>12.0</td>\n",
       "      <td>-9.908051</td>\n",
       "      <td>0.35</td>\n",
       "      <td>0.0</td>\n",
       "      <td>7.0</td>\n",
       "      <td>0.0010</td>\n",
       "      <td>2.65</td>\n",
       "      <td>0.00010</td>\n",
       "      <td>0.00010</td>\n",
       "      <td>7.5</td>\n",
       "      <td>None</td>\n",
       "      <td>None</td>\n",
       "    </tr>\n",
       "    <tr>\n",
       "      <th>1</th>\n",
       "      <td>1</td>\n",
       "      <td>shallow_aquifer</td>\n",
       "      <td>2227.727738</td>\n",
       "      <td>4704.740459</td>\n",
       "      <td>5.462742</td>\n",
       "      <td>1</td>\n",
       "      <td>-15.0</td>\n",
       "      <td>anoxic</td>\n",
       "      <td>12.0</td>\n",
       "      <td>24.908051</td>\n",
       "      <td>0.35</td>\n",
       "      <td>0.0</td>\n",
       "      <td>7.0</td>\n",
       "      <td>0.0005</td>\n",
       "      <td>2.65</td>\n",
       "      <td>0.00010</td>\n",
       "      <td>0.00010</td>\n",
       "      <td>7.5</td>\n",
       "      <td>None</td>\n",
       "      <td>None</td>\n",
       "    </tr>\n",
       "    <tr>\n",
       "      <th>1</th>\n",
       "      <td>1</td>\n",
       "      <td>target_aquifer</td>\n",
       "      <td>0.175001</td>\n",
       "      <td>4704.91546</td>\n",
       "      <td>0.375000</td>\n",
       "      <td>1</td>\n",
       "      <td>-55.0</td>\n",
       "      <td>deeply_anoxic</td>\n",
       "      <td>12.0</td>\n",
       "      <td>5.462742</td>\n",
       "      <td>0.35</td>\n",
       "      <td>0.0</td>\n",
       "      <td>8.0</td>\n",
       "      <td>0.0005</td>\n",
       "      <td>2.65</td>\n",
       "      <td>0.00001</td>\n",
       "      <td>0.00001</td>\n",
       "      <td>7.5</td>\n",
       "      <td>None</td>\n",
       "      <td>None</td>\n",
       "    </tr>\n",
       "  </tbody>\n",
       "</table>\n",
       "</div>"
      ],
      "text/plain": [
       "   flowline_id             zone  travel_time total_travel_time    xcoord  \\\n",
       "1            1          surface            0                 0  5.462742   \n",
       "1            1      vadose_zone  2477.012721       2477.012721  5.462742   \n",
       "1            1  shallow_aquifer  2227.727738       4704.740459  5.462742   \n",
       "1            1   target_aquifer     0.175001        4704.91546  0.375000   \n",
       "\n",
       "  ycoord  zcoord          redox  temp_water  travel_distance  porosity  \\\n",
       "1      1     0.0         anoxic        12.0         0.000000      0.35   \n",
       "1      1    -5.0         anoxic        12.0        -9.908051      0.35   \n",
       "1      1   -15.0         anoxic        12.0        24.908051      0.35   \n",
       "1      1   -55.0  deeply_anoxic        12.0         5.462742      0.35   \n",
       "\n",
       "   dissolved_organic_carbon   pH  fraction_organic_carbon  solid_density  \\\n",
       "1                       0.0  7.0                   0.0010           2.65   \n",
       "1                       0.0  7.0                   0.0010           2.65   \n",
       "1                       0.0  7.0                   0.0005           2.65   \n",
       "1                       0.0  8.0                   0.0005           2.65   \n",
       "\n",
       "       mu1   alpha0  pH0 relative_distance porewater_velocity  \n",
       "1  0.00010  0.00010  7.5              None               None  \n",
       "1  0.00010  0.00010  7.5              None               None  \n",
       "1  0.00010  0.00010  7.5              None               None  \n",
       "1  0.00001  0.00001  7.5              None               None  "
      ]
     },
     "execution_count": 13,
     "metadata": {},
     "output_type": "execute_result"
    }
   ],
   "source": [
    "phreatic_well.df_particle.head(4)"
   ]
  },
  {
   "cell_type": "markdown",
   "metadata": {},
   "source": [
    "Once the removal has been calculated, you can view the steady-state concentration\n",
    "and breakthrough time per zone for the mbo in the df_particle:"
   ]
  },
  {
   "cell_type": "code",
   "execution_count": 14,
   "metadata": {},
   "outputs": [
    {
     "data": {
      "text/html": [
       "<div>\n",
       "<style scoped>\n",
       "    .dataframe tbody tr th:only-of-type {\n",
       "        vertical-align: middle;\n",
       "    }\n",
       "\n",
       "    .dataframe tbody tr th {\n",
       "        vertical-align: top;\n",
       "    }\n",
       "\n",
       "    .dataframe thead th {\n",
       "        text-align: right;\n",
       "    }\n",
       "</style>\n",
       "<table border=\"1\" class=\"dataframe\">\n",
       "  <thead>\n",
       "    <tr style=\"text-align: right;\">\n",
       "      <th></th>\n",
       "      <th>zone</th>\n",
       "      <th>steady_state_concentration</th>\n",
       "      <th>travel_time</th>\n",
       "    </tr>\n",
       "  </thead>\n",
       "  <tbody>\n",
       "    <tr>\n",
       "      <th>1</th>\n",
       "      <td>surface</td>\n",
       "      <td>1.0</td>\n",
       "      <td>0</td>\n",
       "    </tr>\n",
       "    <tr>\n",
       "      <th>1</th>\n",
       "      <td>vadose_zone</td>\n",
       "      <td>0.0</td>\n",
       "      <td>2477.012721</td>\n",
       "    </tr>\n",
       "    <tr>\n",
       "      <th>1</th>\n",
       "      <td>shallow_aquifer</td>\n",
       "      <td>0.0</td>\n",
       "      <td>2227.727738</td>\n",
       "    </tr>\n",
       "    <tr>\n",
       "      <th>1</th>\n",
       "      <td>target_aquifer</td>\n",
       "      <td>0.0</td>\n",
       "      <td>0.175001</td>\n",
       "    </tr>\n",
       "    <tr>\n",
       "      <th>2</th>\n",
       "      <td>surface</td>\n",
       "      <td>1.0</td>\n",
       "      <td>0</td>\n",
       "    </tr>\n",
       "    <tr>\n",
       "      <th>...</th>\n",
       "      <td>...</td>\n",
       "      <td>...</td>\n",
       "      <td>...</td>\n",
       "    </tr>\n",
       "    <tr>\n",
       "      <th>104</th>\n",
       "      <td>target_aquifer</td>\n",
       "      <td>0.0</td>\n",
       "      <td>92720.553915</td>\n",
       "    </tr>\n",
       "    <tr>\n",
       "      <th>105</th>\n",
       "      <td>surface</td>\n",
       "      <td>1.0</td>\n",
       "      <td>0</td>\n",
       "    </tr>\n",
       "    <tr>\n",
       "      <th>105</th>\n",
       "      <td>vadose_zone</td>\n",
       "      <td>0.0</td>\n",
       "      <td>1250.010658</td>\n",
       "    </tr>\n",
       "    <tr>\n",
       "      <th>105</th>\n",
       "      <td>shallow_aquifer</td>\n",
       "      <td>0.0</td>\n",
       "      <td>4374.981348</td>\n",
       "    </tr>\n",
       "    <tr>\n",
       "      <th>105</th>\n",
       "      <td>target_aquifer</td>\n",
       "      <td>0.0</td>\n",
       "      <td>161180.95651</td>\n",
       "    </tr>\n",
       "  </tbody>\n",
       "</table>\n",
       "<p>420 rows × 3 columns</p>\n",
       "</div>"
      ],
      "text/plain": [
       "                zone steady_state_concentration   travel_time\n",
       "1            surface                        1.0             0\n",
       "1        vadose_zone                        0.0   2477.012721\n",
       "1    shallow_aquifer                        0.0   2227.727738\n",
       "1     target_aquifer                        0.0      0.175001\n",
       "2            surface                        1.0             0\n",
       "..               ...                        ...           ...\n",
       "104   target_aquifer                        0.0  92720.553915\n",
       "105          surface                        1.0             0\n",
       "105      vadose_zone                        0.0   1250.010658\n",
       "105  shallow_aquifer                        0.0   4374.981348\n",
       "105   target_aquifer                        0.0  161180.95651\n",
       "\n",
       "[420 rows x 3 columns]"
      ]
     },
     "execution_count": 14,
     "metadata": {},
     "output_type": "execute_result"
    }
   ],
   "source": [
    "df_particle.loc[:,['zone', 'steady_state_concentration', 'travel_time']]"
   ]
  },
  {
   "cell_type": "markdown",
   "metadata": {},
   "source": [
    "View the steady-state concentration of the flowline or the steady-state\n",
    "contribution of the flowline to the concentration in the well"
   ]
  },
  {
   "cell_type": "code",
   "execution_count": 15,
   "metadata": {},
   "outputs": [
    {
     "data": {
      "text/html": [
       "<div>\n",
       "<style scoped>\n",
       "    .dataframe tbody tr th:only-of-type {\n",
       "        vertical-align: middle;\n",
       "    }\n",
       "\n",
       "    .dataframe tbody tr th {\n",
       "        vertical-align: top;\n",
       "    }\n",
       "\n",
       "    .dataframe thead th {\n",
       "        text-align: right;\n",
       "    }\n",
       "</style>\n",
       "<table border=\"1\" class=\"dataframe\">\n",
       "  <thead>\n",
       "    <tr style=\"text-align: right;\">\n",
       "      <th></th>\n",
       "      <th>breakthrough_concentration</th>\n",
       "      <th>breakthrough_travel_time</th>\n",
       "    </tr>\n",
       "  </thead>\n",
       "  <tbody>\n",
       "    <tr>\n",
       "      <th>1</th>\n",
       "      <td>6.354732e-55</td>\n",
       "      <td>4704.91546</td>\n",
       "    </tr>\n",
       "    <tr>\n",
       "      <th>2</th>\n",
       "      <td>4.842733e-57</td>\n",
       "      <td>4890.542455</td>\n",
       "    </tr>\n",
       "    <tr>\n",
       "      <th>3</th>\n",
       "      <td>2.834919e-59</td>\n",
       "      <td>5090.353031</td>\n",
       "    </tr>\n",
       "    <tr>\n",
       "      <th>4</th>\n",
       "      <td>1.987134e-61</td>\n",
       "      <td>5289.21052</td>\n",
       "    </tr>\n",
       "    <tr>\n",
       "      <th>5</th>\n",
       "      <td>6.017752e-63</td>\n",
       "      <td>5432.777061</td>\n",
       "    </tr>\n",
       "  </tbody>\n",
       "</table>\n",
       "</div>"
      ],
      "text/plain": [
       "   breakthrough_concentration breakthrough_travel_time\n",
       "1                6.354732e-55               4704.91546\n",
       "2                4.842733e-57              4890.542455\n",
       "3                2.834919e-59              5090.353031\n",
       "4                1.987134e-61               5289.21052\n",
       "5                6.017752e-63              5432.777061"
      ]
     },
     "execution_count": 15,
     "metadata": {},
     "output_type": "execute_result"
    }
   ],
   "source": [
    "df_flowline.loc[:,['breakthrough_concentration', 'breakthrough_travel_time']].head(5)\n"
   ]
  },
  {
   "cell_type": "markdown",
   "metadata": {},
   "source": [
    "Plot the breakthrough curve at the well over time:"
   ]
  },
  {
   "cell_type": "code",
   "execution_count": 16,
   "metadata": {},
   "outputs": [
    {
     "data": {
      "image/png": "[encoded data removed]",
      "text/plain": [
       "<Figure size 720x360 with 1 Axes>"
      ]
     },
     "metadata": {
      "needs_background": "light"
     },
     "output_type": "display_data"
    }
   ],
   "source": [
    "solani_plot = phreatic_transport.plot_concentration(ylim=[0,10 ], as_fraction_input = True)"
   ]
  },
  {
   "cell_type": "markdown",
   "metadata": {},
   "source": [
    "You can also compute the removal for a different mbo of interest (plant pathogens):\n",
    "\n",
    "* carotovorum\n",
    "* solanacearum\n",
    "\n",
    "Or optionally a different species of own choice (non-default):\n",
    "* MS2 (virus)\n",
    "\n",
    "To do so you can use the original schematisation, but specify a different mbo when you create the Transport object."
   ]
  },
  {
   "cell_type": "code",
   "execution_count": 17,
   "metadata": {},
   "outputs": [
    {
     "name": "stdout",
     "output_type": "stream",
     "text": [
      "{'organism_name': 'carotovorum', 'alpha0': {'suboxic': 0.3, 'anoxic': 0.577, 'deeply_anoxic': 0.577}, 'pH0': {'suboxic': 7.5, 'anoxic': 7.5, 'deeply_anoxic': 7.5}, 'organism_diam': 1.803e-06, 'mu1': {'suboxic': 1.2664, 'anoxic': 0.1279, 'deeply_anoxic': 0.1279}}\n",
      "Final concentration well1: 0.0\n"
     ]
    }
   ],
   "source": [
    "# phreatic_well = AW.AnalyticalWell(phreatic_schematisation)\n",
    "phreatic_well.phreatic() \n",
    "# removal parameters carotovorum (default)\n",
    "organism_carotovorum = TR.MicrobialOrganism(organism_name = \"carotovorum\")\n",
    "print(organism_carotovorum.organism_dict)\n",
    "\n",
    "# Transport object\n",
    "phreatic_transport = TR.Transport(phreatic_well, pollutant = organism_carotovorum)\n",
    "# keep track of final cocnentration per endpoint_id\n",
    "C_final = {}\n",
    "# Update df_flowline and df_particle. Calculate final concentration at endpoint_id(s)\n",
    "for endpoint_id in endpoint_ids:\n",
    "    df_particle, df_flowline, C_final[endpoint_id] = phreatic_transport.calc_advective_microbial_removal( \n",
    "                                                endpoint_id = endpoint_id)\n",
    "    print(f\"Final concentration {endpoint_id}: {C_final[endpoint_id]}\")\n"
   ]
  },
  {
   "cell_type": "code",
   "execution_count": 18,
   "metadata": {},
   "outputs": [
    {
     "data": {
      "image/png": "[encoded data removed]",
      "text/plain": [
       "<Figure size 720x360 with 1 Axes>"
      ]
     },
     "metadata": {
      "needs_background": "light"
     },
     "output_type": "display_data"
    }
   ],
   "source": [
    "\n",
    "# Plot the breakthrough concentration\n",
    "carotovorum_plot = phreatic_transport.plot_concentration(ylim=[0,100 ])\n"
   ]
  },
  {
   "cell_type": "code",
   "execution_count": 19,
   "metadata": {},
   "outputs": [
    {
     "name": "stdout",
     "output_type": "stream",
     "text": [
      "{'organism_name': 'solanacearum', 'alpha0': {'suboxic': 0.011, 'anoxic': 0.456, 'deeply_anoxic': 0.456}, 'pH0': {'suboxic': 7.5, 'anoxic': 7.5, 'deeply_anoxic': 7.5}, 'organism_diam': 1.945e-06, 'mu1': {'suboxic': 0.3519, 'anoxic': 0.1637, 'deeply_anoxic': 0.1637}}\n",
      "Final concentration well1: 0.0\n"
     ]
    }
   ],
   "source": [
    "# phreatic_well = AW.AnalyticalWell(phreatic_schematisation)\n",
    "phreatic_well.phreatic() \n",
    "# removal parameters carotovorum (default)\n",
    "organism_solanacearum = TR.MicrobialOrganism(organism_name = \"solanacearum\")\n",
    "print(organism_solanacearum.organism_dict)\n",
    "\n",
    "# Transport object\n",
    "phreatic_transport = TR.Transport(phreatic_well, pollutant = organism_solanacearum)\n",
    "# keep track of final cocnentration per endpoint_id\n",
    "C_final = {}\n",
    "# Update df_flowline and df_particle. Calculate final concentration at endpoint_id(s)\n",
    "for endpoint_id in endpoint_ids:\n",
    "    df_particle, df_flowline, C_final[endpoint_id] = phreatic_transport.calc_advective_microbial_removal( \n",
    "                                                endpoint_id = endpoint_id)\n",
    "    print(f\"Final concentration {endpoint_id}: {C_final[endpoint_id]}\")\n"
   ]
  },
  {
   "cell_type": "code",
   "execution_count": 20,
   "metadata": {},
   "outputs": [
    {
     "data": {
      "image/png": "[encoded data removed]",
      "text/plain": [
       "<Figure size 720x360 with 1 Axes>"
      ]
     },
     "metadata": {
      "needs_background": "light"
     },
     "output_type": "display_data"
    }
   ],
   "source": [
    "\n",
    "solanacearum_plot = phreatic_transport.plot_concentration(ylim=[0,1])\n"
   ]
  },
  {
   "cell_type": "markdown",
   "metadata": {},
   "source": [
    "Define removal parameters for a virus (MS2): manual input"
   ]
  },
  {
   "cell_type": "code",
   "execution_count": 21,
   "metadata": {},
   "outputs": [],
   "source": [
    "# phreatic_well = AW.AnalyticalWell(phreatic_schematisation)\n",
    "phreatic_well.phreatic() \n",
    "\n",
    "# microbial removal properties of microbial organism\n",
    "organism_name = 'MS2'\n",
    "# reference_collision_efficiency [-]\n",
    "alpha0 = {\"suboxic\": 1.e-3, \"anoxic\": 1.e-5, \"deeply_anoxic\": 1.e-5}\n",
    "# reference pH for calculating collision efficiency [-]\n",
    "pH0 = {\"suboxic\": 6.6, \"anoxic\": 6.8, \"deeply_anoxic\": 6.8}\n",
    "# diameter of pathogen/species [m]\n",
    "organism_diam =  2.33e-8\n",
    "# inactivation coefficient [1/day]\n",
    "mu1 = {\"suboxic\": 0.149,\"anoxic\": 0.023,\"deeply_anoxic\": 0.023}\n",
    "# removal parameters for MS2 (manual input MicrobialOrganism)\n",
    "organism_MS2 = TR.MicrobialOrganism(organism_name = organism_name,\n",
    "                                    alpha0_suboxic = alpha0[\"suboxic\"],\n",
    "                                    alpha0_anoxic = alpha0[\"anoxic\"],\n",
    "                                    alpha0_deeply_anoxic = alpha0[\"deeply_anoxic\"],\n",
    "                                    pH0_suboxic = pH0[\"suboxic\"],\n",
    "                                    pH0_anoxic = pH0[\"anoxic\"],\n",
    "                                    pH0_deeply_anoxic = pH0[\"deeply_anoxic\"],\n",
    "                                    mu1_suboxic = mu1[\"suboxic\"],\n",
    "                                    mu1_anoxic = mu1[\"anoxic\"],\n",
    "                                    mu1_deeply_anoxic = mu1[\"deeply_anoxic\"],\n",
    "                                    organism_diam = organism_diam)\n",
    "\n",
    "\n",
    "\n"
   ]
  },
  {
   "cell_type": "markdown",
   "metadata": {},
   "source": [
    "Call the transport object and calculate the mbo removal"
   ]
  },
  {
   "cell_type": "code",
   "execution_count": 22,
   "metadata": {},
   "outputs": [
    {
     "name": "stdout",
     "output_type": "stream",
     "text": [
      "{'organism_name': 'MS2', 'alpha0': {'suboxic': 0.001, 'anoxic': 1e-05, 'deeply_anoxic': 1e-05}, 'pH0': {'suboxic': 6.6, 'anoxic': 6.8, 'deeply_anoxic': 6.8}, 'organism_diam': 2.33e-08, 'mu1': {'suboxic': 0.149, 'anoxic': 0.023, 'deeply_anoxic': 0.023}}\n",
      "Final concentration well1: 5.994602552622536e-61\n"
     ]
    }
   ],
   "source": [
    "# Transport object\n",
    "phreatic_transport = TR.Transport(phreatic_well, pollutant = organism_MS2)\n",
    "print(organism_MS2.organism_dict)\n",
    "\n",
    "# keep track of final cocnentration per endpoint_id\n",
    "C_final = {}\n",
    "# Update df_flowline and df_particle. Calculate final concentration at endpoint_id(s)\n",
    "for endpoint_id in endpoint_ids:\n",
    "    df_particle, df_flowline, C_final[endpoint_id] = phreatic_transport.calc_advective_microbial_removal( \n",
    "                                                endpoint_id = endpoint_id)\n",
    "    print(f\"Final concentration {endpoint_id}: {C_final[endpoint_id]}\")\n"
   ]
  },
  {
   "cell_type": "markdown",
   "metadata": {},
   "source": [
    "Plot the breakthrough concentration"
   ]
  },
  {
   "cell_type": "code",
   "execution_count": 23,
   "metadata": {},
   "outputs": [
    {
     "data": {
      "image/png": "[encoded data removed]",
      "text/plain": [
       "<Figure size 720x360 with 1 Axes>"
      ]
     },
     "metadata": {
      "needs_background": "light"
     },
     "output_type": "display_data"
    }
   ],
   "source": [
    "MS2_plot = phreatic_transport.plot_concentration(ylim=[0,10 ], as_fraction_input = True)"
   ]
  },
  {
   "cell_type": "markdown",
   "metadata": {},
   "source": [
    "The total travel time can be plotted as a function of radial distance from the well, or as a function\n",
    "of the cumulative fraction of abstracted water: "
   ]
  },
  {
   "cell_type": "code",
   "execution_count": 24,
   "metadata": {},
   "outputs": [
    {
     "data": {
      "image/png": "[encoded data removed]",
      "text/plain": [
       "<Figure size 720x360 with 1 Axes>"
      ]
     },
     "metadata": {
      "needs_background": "light"
     },
     "output_type": "display_data"
    }
   ],
   "source": [
    "radial_plot = phreatic_well.plot_travel_time_versus_radial_distance(xlim=[0, 2000], ylim=[1e3, 1e6])\n"
   ]
  },
  {
   "cell_type": "code",
   "execution_count": 25,
   "metadata": {},
   "outputs": [
    {
     "data": {
      "image/png": "[encoded data removed]",
      "text/plain": [
       "<Figure size 720x360 with 1 Axes>"
      ]
     },
     "metadata": {
      "needs_background": "light"
     },
     "output_type": "display_data"
    }
   ],
   "source": [
    "cumulative_plot = phreatic_well.plot_travel_time_versus_cumulative_abstracted_water(xlim=[0, 1], ylim=[1e3, 1e6])"
   ]
  }
 ],
 "metadata": {
  "kernelspec": {
   "display_name": "Python 3.9.5 ('base')",
   "language": "python",
   "name": "python3"
  },
  "language_info": {
   "codemirror_mode": {
    "name": "ipython",
    "version": 3
   },
   "file_extension": ".py",
   "mimetype": "text/x-python",
   "name": "python",
   "nbconvert_exporter": "python",
   "pygments_lexer": "ipython3",
   "version": "3.9.5"
  },
  "orig_nbformat": 4,
  "vscode": {
   "interpreter": {
    "hash": "b1927a54a93164515be0cd943a58faec848a387ed14458738e2b63e769905115"
   }
  }
 },
 "nbformat": 4,
 "nbformat_minor": 2
}
